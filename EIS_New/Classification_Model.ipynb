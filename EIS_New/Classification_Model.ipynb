{
 "cells": [
  {
   "cell_type": "code",
   "execution_count": 24,
   "metadata": {},
   "outputs": [],
   "source": [
    "import os\n",
    "import pandas as pd\n",
    "import numpy as np\n",
    "from sklearn.model_selection import train_test_split\n",
    "from sklearn.ensemble import RandomForestClassifier\n",
    "from sklearn.tree import DecisionTreeClassifier\n",
    "from sklearn.metrics import mean_squared_error\n",
    "from xgboost import XGBRegressor\n",
    "from sklearn.linear_model import LogisticRegression\n"
   ]
  },
  {
   "cell_type": "code",
   "execution_count": 2,
   "metadata": {},
   "outputs": [],
   "source": [
    "from sklearn.model_selection import train_test_split\n",
    "\n",
    "# Step 1: Data Preprocessing\n",
    "data = []\n",
    "labels = []\n",
    "\n",
    "folders = ['EC07', 'EC08', 'EC09']\n",
    "for folder in folders:\n",
    "    file_names = os.listdir(folder)\n",
    "    for file_name in file_names:\n",
    "        df = pd.read_excel(os.path.join(folder, file_name), header=None, skiprows=1)  # Skip the header row\n",
    "        # Ensure each sample retains its original shape of (72, 3)\n",
    "        if df.shape == (72, 3):\n",
    "            data.append(df.values)  # Append the entire dataframe as one sample\n",
    "            folder_label = folder[-2:]  # Extract the label from the folder name\n",
    "            labels.append(folder_label)\n"
   ]
  },
  {
   "cell_type": "code",
   "execution_count": 3,
   "metadata": {},
   "outputs": [
    {
     "name": "stdout",
     "output_type": "stream",
     "text": [
      "X_train shape: 47997\n",
      "X_test shape: 12000\n",
      "y_train shape: 47997\n",
      "y_test shape: 12000\n"
     ]
    }
   ],
   "source": [
    "\n",
    "# Step 2: Data Splitting (Train-Test Split)\n",
    "X_train, X_test, y_train, y_test = train_test_split(data, labels, test_size=0.2, random_state=42)\n",
    "\n",
    "# Print the shapes of the resulting arrays\n",
    "print(\"X_train shape:\", len(X_train))\n",
    "print(\"X_test shape:\", len(X_test))\n",
    "print(\"y_train shape:\", len(y_train))\n",
    "print(\"y_test shape:\", len(y_test))\n"
   ]
  },
  {
   "cell_type": "code",
   "execution_count": 4,
   "metadata": {},
   "outputs": [],
   "source": [
    "#Selection of Model\n",
    "from sklearn.linear_model import LogisticRegression\n",
    "from sklearn.model_selection import train_test_split\n",
    "from sklearn.metrics import accuracy_score\n",
    "\n",
    "# Step 3: Model Selection\n",
    "# Assuming 'X' contains the extracted features and 'labels' contains the corresponding circuit labels\n",
    "\n",
    "# Split the data into training and testing sets\n",
    "# X_train, X_test, y_train, y_test = train_test_split(X, labels, test_size=0.2, random_state=42)\n"
   ]
  },
  {
   "cell_type": "code",
   "execution_count": 5,
   "metadata": {},
   "outputs": [
    {
     "name": "stderr",
     "output_type": "stream",
     "text": [
      "c:\\Users\\HP\\anaconda3\\Lib\\site-packages\\sklearn\\preprocessing\\_data.py:979: RuntimeWarning: invalid value encountered in sqrt\n",
      "  np.sqrt(self.var_), copy=False, constant_mask=constant_mask\n"
     ]
    }
   ],
   "source": [
    "X_train_flat = [sample.flatten() for sample in X_train]\n",
    "\n",
    "# Convert the flattened data into a 2D array\n",
    "X_train_flat = np.array(X_train_flat)\n",
    "from sklearn.preprocessing import StandardScaler\n",
    "\n",
    "scaler = StandardScaler()\n",
    "X_train_scaled = scaler.fit_transform(X_train_flat)\n"
   ]
  },
  {
   "cell_type": "code",
   "execution_count": 6,
   "metadata": {},
   "outputs": [],
   "source": [
    "\n",
    "X_test_flat = [sample.flatten() for sample in X_test]\n",
    "\n",
    "# Convert the flattened data into a 2D array\n",
    "X_test_flat = np.array(X_test_flat)\n",
    "X_test_scaled = scaler.transform(X_test_flat)"
   ]
  },
  {
   "cell_type": "code",
   "execution_count": 27,
   "metadata": {},
   "outputs": [
    {
     "name": "stdout",
     "output_type": "stream",
     "text": [
      "Accuracy: 0.5129166666666667\n"
     ]
    }
   ],
   "source": [
    "\n",
    "# Initialize the Random Forest classifier\n",
    "logistic_classifier = LogisticRegression(multi_class='multinomial',solver='lbfgs',max_iter=20000)\n",
    "\n",
    "\n",
    "logistic_classifier.fit(X_train_scaled, y_train)\n",
    "\n",
    "# Step 6: Model Evaluation\n",
    "# Make predictions on the test set\n",
    "predictions = logistic_classifier.predict(X_test_scaled)\n",
    "\n",
    "# Calculate accuracy\n",
    "accuracy = accuracy_score(y_test, predictions)\n",
    "print(\"Accuracy:\", accuracy)"
   ]
  },
  {
   "cell_type": "code",
   "execution_count": 32,
   "metadata": {},
   "outputs": [
    {
     "name": "stdout",
     "output_type": "stream",
     "text": [
      "Predicted Label: ['07']\n"
     ]
    }
   ],
   "source": [
    "# Load the new frequency response data from the Excel file\n",
    "new_data = pd.read_excel(\"EC08/row_276.xlsx\", header=None,skiprows=1)  # Assuming the file contains a single frequency response\n",
    "\n",
    "# Preprocess the new data (flatten if necessary)\n",
    "new_data_flat = new_data.values.flatten()\n",
    "\n",
    "# Reshape the flattened data to match the shape of a single sample in X_train\n",
    "new_data_reshaped = new_data_flat.reshape(1, -1)\n",
    "new_data_scaled = scaler.transform(new_data_reshaped)\n",
    "\n",
    "# Use the trained logistic regression model to make predictions\n",
    "predicted_label = logistic_classifier.predict(new_data_scaled)\n",
    "\n",
    "# Interpret the predicted label\n",
    "print(\"Predicted Label:\", predicted_label)\n"
   ]
  },
  {
   "cell_type": "code",
   "execution_count": null,
   "metadata": {},
   "outputs": [],
   "source": []
  },
  {
   "cell_type": "code",
   "execution_count": null,
   "metadata": {},
   "outputs": [],
   "source": []
  },
  {
   "cell_type": "code",
   "execution_count": null,
   "metadata": {},
   "outputs": [],
   "source": []
  },
  {
   "cell_type": "code",
   "execution_count": null,
   "metadata": {},
   "outputs": [],
   "source": []
  },
  {
   "cell_type": "code",
   "execution_count": null,
   "metadata": {},
   "outputs": [],
   "source": []
  }
 ],
 "metadata": {
  "kernelspec": {
   "display_name": "base",
   "language": "python",
   "name": "python3"
  },
  "language_info": {
   "codemirror_mode": {
    "name": "ipython",
    "version": 3
   },
   "file_extension": ".py",
   "mimetype": "text/x-python",
   "name": "python",
   "nbconvert_exporter": "python",
   "pygments_lexer": "ipython3",
   "version": "3.11.5"
  }
 },
 "nbformat": 4,
 "nbformat_minor": 2
}
